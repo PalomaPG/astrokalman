{
 "cells": [
  {
   "cell_type": "markdown",
   "metadata": {},
   "source": [
    "# Maximum Correntropy Kalman Filter\n",
    "\n",
    "- Traditional Kalman Filter (KF) is derived under the well-known minimum mean square error: *MMSE* criterion, which is optimal under Gaussian assumption. However, when the signals are non-Gaussian, **speacially when the system is disturbedd by some heavy-tailed impulsive noises** the performance will detereiorate notoroiusly.\n",
    "\n",
    "- Maximum correntropy Kalman Filter (MCKF) adopts the robust maximum correntropy criterion (*MCC*) instead of using MMSE. \n",
    "\n",
    "- MCKF operates similarly to KF: the state mean vector and covariance matrix propagation equations are used to give prior stimations of the state and covariance matrix. \n",
    "\n",
    "- A fixed-point algorithm is used to update the posterior estimations."
   ]
  },
  {
   "cell_type": "markdown",
   "metadata": {},
   "source": [
    "## Introduction\n",
    "\n",
    "- Linear dynamic systems are ussually solved by KF.\n",
    "- The optimization criteria in information theoretic learning (ITL) uses the information theoretic quantities (e.g. entropy) estimated directly from the data instead of the usual second order statistical measures.\n",
    "- The ITL links information theory, non-parametric estimators, and reproducing kernel Hilbert spaces (RKHS).\n",
    "- The correntropy is a nonlienar similarity measure in kernel space has it's root in Renyi's entropy. It is also a local similarity measure (hence insensitive to outliers).\n",
    "- In supervised learning, such as regression the problem can be formulated as that of maximizing the correntropy between model output and desired reponse.\n",
    "- **The MCC solution can't be obtained in closed form even for a simple linear regression problem, so one has to solve it using in iterative update algorithm such as the gradient based methods**.\n",
    "- Gradient based methods depend on **a free parameter step-size and ussually converge to an optimal solution slowly**. So, the fixed-point iterative algorithm is an alternative effcient way to solve the MCC solution, which involves no step-size, and may converge to the solution very fast."
   ]
  },
  {
   "cell_type": "markdown",
   "metadata": {},
   "source": [
    "## Preliminaries\n",
    "\n",
    "### Correntropy\n",
    "\n",
    "Is a generalized similarity measure between two random variables.\n",
    "\n",
    "Be X and Y two random variables: $X, Y \\in \\mathbb{R}$, with a joint distribution function $F_{XY}(x,y)$, the correntropy between these variables is defined as follows:\n",
    "\n",
    "\\begin{equation}\n",
    "V(X,Y)  = E \\left[\\kappa(X,Y)\\right] = \\int \\kappa(x,y)dF_{XY}(x,y)\n",
    "\\label{eq:eq1}\n",
    "\\end{equation}\n",
    "\n",
    "$\\kappa(\\dot, \\dot)$ is a shift-invariant Mercer Kernel. In this case is the Gaussian kernel given by:\n",
    "\n",
    "\\begin{equation}\n",
    "\\kappa(x,y)  = G_{\\sigma}= exp\\left(-\\dfrac{(x-y)^2}{2\\sigma^2} \\right) \n",
    "\\label{eq:eq2}\n",
    "\\end{equation}\n",
    "\n",
    "$\\sigma > 0$, stands for the kernel bandwidth.\n",
    "\n",
    "- The join distribution, $F_{XY}$ is ussually unknown. In this case the correntropy can be estimated using a sample mean estimator.\n",
    "\n",
    "\n",
    "\\begin{equation}\n",
    "\\hat{V}(X,Y) = \\dfrac{1}{N} \\sum^{N}_{i=1} G_{\\sigma}(x_i - y_i) \n",
    "\\end{equation}\n",
    "\n",
    "\n",
    "- Taking the Taylor series expansion of the Gaussian Kernel we have\n",
    "\n",
    "\\begin{equation}\n",
    "V(X,Y) = \\sum_{n=0}^{\\infty} \\dfrac{(-1)^n}{2^n \\sigma^{2n} n!} E\\left[(X -Y)^{2n} \\right]\n",
    "\\end{equation}\n"
   ]
  },
  {
   "cell_type": "markdown",
   "metadata": {},
   "source": [
    "## Kalman Filter under MCC\n",
    "\n"
   ]
  }
 ],
 "metadata": {
  "kernelspec": {
   "display_name": "Python 3",
   "language": "python",
   "name": "python3"
  },
  "language_info": {
   "codemirror_mode": {
    "name": "ipython",
    "version": 3
   },
   "file_extension": ".py",
   "mimetype": "text/x-python",
   "name": "python",
   "nbconvert_exporter": "python",
   "pygments_lexer": "ipython3",
   "version": "3.6.4"
  }
 },
 "nbformat": 4,
 "nbformat_minor": 2
}
