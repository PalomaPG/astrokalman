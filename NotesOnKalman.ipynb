{
 "cells": [
  {
   "cell_type": "markdown",
   "metadata": {
    "collapsed": true
   },
   "source": [
    "# Kalman filter\n",
    "\n",
    "\n",
    "* The Kalman filter assumes that variables are random and Gaussian distributed. Each variable has a mean value $\\mu$, which is the center of the random distribution (and its most likely state), and a variance $\\sigma^2$, which is the uncertainty.\n",
    "* If variables are correlated -> ideal scenario. This kind of relationship is really important to keep track of, because it gives us more information: One measurement tells us something about what the others could be. And that’s the goal of the Kalman filter, we want to squeeze as much information from our uncertain measurements as we possibly can!\n",
    "* Correlation is defined by **coviariance matrix**. Each $\\Sigma_{ij}$ is the degree of correlation between the *ith* state variable and the *jth* state variable. The more correlated the more symmetric the covariance matrix is.\n",
    "* We can have a template as a prediction matrix, but we at a first sign don't know how the cavariance matrix change. \n",
    "* If we multiply every point in a distribution by a matrix **A**, then the covariance matrix...\n",
    "\n",
    "$$\n",
    "Cov(x) = \\Sigma\n",
    "$$\n",
    "$$\n",
    "Cov(Ax) = A\\Sigma A^T\n",
    "$$\n",
    "\n",
    "* There might be some changes that aren't related to the state itself - ** The outside world could be affecting the the system ** described in a vector, $\\vec{u_k}$. Then we can define this vector as *control vector* and a new matrix called *control matrix* $B_k$.\n",
    "\n",
    "* If our model has its own uncertainty: *\"We can model the uncertainty associated with the “world” (i.e. things we aren’t keeping track of) by adding some new uncertainty after every prediction step\"*, $Q_k$. Another way to say this is that we are treating the untracked influences as noise with covariance. if we are using gaussian blobs, this generates different gaussian blobs with different covariance (but same mean).\n",
    "\n",
    "* <span style=\"color:blue\">And the **new uncertainty** is predicted from the **old uncertainty**, with **some additional uncertainty from the environment**.</span>.\n"
   ]
  },
  {
   "cell_type": "markdown",
   "metadata": {
    "collapsed": false
   },
   "source": [
    ""
   ]
  },
  {
   "cell_type": "markdown",
   "metadata": {},
   "source": []
  },
  {
   "cell_type": "code",
   "execution_count": null,
   "metadata": {},
   "outputs": [],
   "source": []
  }
 ],
 "metadata": {
  "kernelspec": {
   "display_name": "Python 2",
   "language": "python",
   "name": "python2"
  },
  "language_info": {
   "codemirror_mode": {
    "name": "ipython",
    "version": 2
   },
   "file_extension": ".py",
   "mimetype": "text/x-python",
   "name": "python",
   "nbconvert_exporter": "python",
   "pygments_lexer": "ipython2",
   "version": "2.7.6"
  }
 },
 "nbformat": 4,
 "nbformat_minor": 0
}
